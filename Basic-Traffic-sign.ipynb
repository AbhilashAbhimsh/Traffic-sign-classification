{
 "cells": [
  {
   "cell_type": "code",
   "execution_count": 71,
   "metadata": {},
   "outputs": [],
   "source": [
    "import tensorflow as tf\n",
    "import pickle\n",
    "from keras.preprocessing.image import ImageDataGenerator\n",
    "import matplotlib.pyplot as plt\n",
    "import numpy as np"
   ]
  },
  {
   "cell_type": "code",
   "execution_count": 2,
   "metadata": {},
   "outputs": [],
   "source": [
    "train_pickle = \"./data/train.p\"\n",
    "validation = \"./data/valid.p\"\n",
    "test = \"./data/test.p\"\n",
    "with open(train_pickle, mode='rb') as fp:\n",
    "    train = pickle.load(fp)\n",
    "        \n",
    "with open(validation, mode='rb') as fp:\n",
    "    validata = pickle.load(fp)\n",
    "    \n",
    "with open(test, mode='rb') as fp:\n",
    "    test = pickle.load(fp) "
   ]
  },
  {
   "cell_type": "code",
   "execution_count": 3,
   "metadata": {},
   "outputs": [],
   "source": [
    "X_train, Y_train = train['features'], train['labels']\n",
    "X_validate, Y_validate = validata['features'], validata['labels']\n",
    "X_test, Y_test = test['features'], test['labels']"
   ]
  },
  {
   "cell_type": "code",
   "execution_count": 4,
   "metadata": {},
   "outputs": [],
   "source": [
    "assert len(X_train) == len(Y_train), \"Training labels and feature number dont match\"\n",
    "assert len(X_validate) == len(Y_validate), \"Validation labels and feature number dont match\"\n",
    "assert len(X_test) == len(Y_test), \"Test labels and feature number dont match\""
   ]
  },
  {
   "cell_type": "code",
   "execution_count": 5,
   "metadata": {},
   "outputs": [
    {
     "name": "stdout",
     "output_type": "stream",
     "text": [
      "Number of training Examples: 34799\n",
      "Number of validation Examples: 4410\n",
      "Number of test Examples: 12630\n"
     ]
    }
   ],
   "source": [
    "n_train = len(X_train)\n",
    "n_validate = len(X_validate)\n",
    "n_test = len(X_test)\n",
    "print(\"Number of training Examples: {}\".format(n_train))\n",
    "print(\"Number of validation Examples: {}\".format(n_validate))\n",
    "print(\"Number of test Examples: {}\".format(n_test))"
   ]
  },
  {
   "cell_type": "code",
   "execution_count": 62,
   "metadata": {},
   "outputs": [
    {
     "name": "stdout",
     "output_type": "stream",
     "text": [
      "(32, 32, 3)\n",
      "(32, 32, 3)\n",
      "(32, 32, 3)\n",
      "(32, 32, 3)\n",
      "(32, 32, 3)\n",
      "(32, 32, 3)\n",
      "(32, 32, 3)\n",
      "(32, 32, 3)\n",
      "(32, 32, 3)\n"
     ]
    },
    {
     "data": {
      "image/png": "[encoded data removed]",
      "text/plain": [
       "<Figure size 432x288 with 9 Axes>"
      ]
     },
     "metadata": {
      "needs_background": "light"
     },
     "output_type": "display_data"
    }
   ],
   "source": [
    "data_gen = ImageDataGenerator()\n",
    "# X_train = X_train.astype('float32')\n",
    "data_gen.fit(X_train[355].reshape(1,32,32,3))\n",
    "img_generator = data_gen.flow(X_train[4508].reshape(1,32,32,3))\n",
    "batch_sizes = 9\n",
    "# create a grid of 3x3 images\n",
    "for i in range(0, batch_sizes):\n",
    "    plt.subplot(330 + 1 + i)\n",
    "    img = img_generator.next()[0]\n",
    "    plt.imshow(img.astype('uint8'), cmap=plt.get_cmap('gray'))\n",
    "# show the plot\n",
    "plt.show()\n",
    "\n",
    "    "
   ]
  },
  {
   "cell_type": "code",
   "execution_count": 52,
   "metadata": {},
   "outputs": [
    {
     "data": {
      "text/plain": [
       "(32, 32, 3)"
      ]
     },
     "execution_count": 52,
     "metadata": {},
     "output_type": "execute_result"
    }
   ],
   "source": [
    "X_train[0].shape"
   ]
  },
  {
   "cell_type": "code",
   "execution_count": 74,
   "metadata": {},
   "outputs": [
    {
     "data": {
      "text/plain": [
       "<matplotlib.image.AxesImage at 0x7f0e02d23ba8>"
      ]
     },
     "execution_count": 74,
     "metadata": {},
     "output_type": "execute_result"
    },
    {
     "data": {
      "image/png": "[encoded data removed]",
      "text/plain": [
       "<Figure size 432x288 with 1 Axes>"
      ]
     },
     "metadata": {
      "needs_background": "light"
     },
     "output_type": "display_data"
    }
   ],
   "source": [
    "plt.plot(figsize=3)\n",
    "plt.imshow(X_train[34555].astype('uint8'))"
   ]
  },
  {
   "cell_type": "code",
   "execution_count": 63,
   "metadata": {},
   "outputs": [
    {
     "data": {
      "text/plain": [
       "numpy.ndarray"
      ]
     },
     "execution_count": 63,
     "metadata": {},
     "output_type": "execute_result"
    }
   ],
   "source": [
    "type(Y_train)"
   ]
  },
  {
   "cell_type": "code",
   "execution_count": 68,
   "metadata": {},
   "outputs": [
    {
     "data": {
      "text/plain": [
       "(34799,)"
      ]
     },
     "execution_count": 68,
     "metadata": {},
     "output_type": "execute_result"
    }
   ],
   "source": [
    "Y_train.shape"
   ]
  },
  {
   "cell_type": "code",
   "execution_count": 69,
   "metadata": {},
   "outputs": [],
   "source": [
    "a = Y_train.copy()"
   ]
  },
  {
   "cell_type": "code",
   "execution_count": 73,
   "metadata": {},
   "outputs": [
    {
     "data": {
      "text/plain": [
       "(array([ 0,  1,  2,  3,  4,  5,  6,  7,  8,  9, 10, 11, 12, 13, 14, 15, 16,\n",
       "        17, 18, 19, 20, 21, 22, 23, 24, 25, 26, 27, 28, 29, 30, 31, 32, 33,\n",
       "        34, 35, 36, 37, 38, 39, 40, 41, 42], dtype=uint8),\n",
       " array([ 180, 1980, 2010, 1260, 1770, 1650,  360, 1290, 1260, 1320, 1800,\n",
       "        1170, 1890, 1920,  690,  540,  360,  990, 1080,  180,  300,  270,\n",
       "         330,  450,  240, 1350,  540,  210,  480,  240,  390,  690,  210,\n",
       "         599,  360, 1080,  330,  180, 1860,  270,  300,  210,  210]))"
      ]
     },
     "execution_count": 73,
     "metadata": {},
     "output_type": "execute_result"
    }
   ],
   "source": [
    "np.unique(a, return_counts=True)"
   ]
  },
  {
   "cell_type": "code",
   "execution_count": null,
   "metadata": {},
   "outputs": [],
   "source": []
  }
 ],
 "metadata": {
  "kernelspec": {
   "display_name": "Python 3",
   "language": "python",
   "name": "python3"
  },
  "language_info": {
   "codemirror_mode": {
    "name": "ipython",
    "version": 3
   },
   "file_extension": ".py",
   "mimetype": "text/x-python",
   "name": "python",
   "nbconvert_exporter": "python",
   "pygments_lexer": "ipython3",
   "version": "3.6.9"
  }
 },
 "nbformat": 4,
 "nbformat_minor": 2
}
